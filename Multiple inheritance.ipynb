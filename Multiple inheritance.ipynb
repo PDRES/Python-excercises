{
 "cells": [
  {
   "cell_type": "code",
   "execution_count": 4,
   "metadata": {},
   "outputs": [
    {
     "name": "stdout",
     "output_type": "stream",
     "text": [
      "Im a soldier\n"
     ]
    }
   ],
   "source": [
    "class Soldier: \n",
    "    def __init__(self):\n",
    "        print(\"Im a soldier\")\n",
    "        \n",
    "class General: \n",
    "    def __init__(self):\n",
    "        print(\"im a General \")\n",
    "    \n",
    "class Zombie(Soldier,General):\n",
    "    pass\n",
    "\n",
    "zombie=Zombie()\n",
    "    \n",
    "        #choose in order try (General, Soldier) instead \n",
    "\n",
    "    \n",
    "    \n"
   ]
  },
  {
   "cell_type": "code",
   "execution_count": 5,
   "metadata": {},
   "outputs": [
    {
     "name": "stdout",
     "output_type": "stream",
     "text": [
      "Im a soldier\n"
     ]
    }
   ],
   "source": [
    "class Soldier: \n",
    "    def __init__(self):\n",
    "        print(\"Im a soldier\")\n",
    "    def defense(self):\n",
    "        print(\"this method heritaged from soldier \")\n",
    "        \n",
    "class General: \n",
    "    def __init__(self):\n",
    "        print(\"im a General \")\n",
    "    def strategy(self):\n",
    "        print(\"this method heritaged from general \")\n",
    "    \n",
    "class Zombie(Soldier,General):\n",
    "    def copy_skill(self):\n",
    "        print(\"mixed skills\")\n",
    "    \n",
    "\n",
    "zombie=Zombie()"
   ]
  },
  {
   "cell_type": "code",
   "execution_count": 9,
   "metadata": {},
   "outputs": [
    {
     "name": "stdout",
     "output_type": "stream",
     "text": [
      "this method heritaged from soldier \n"
     ]
    }
   ],
   "source": [
    "zombie.defense()"
   ]
  },
  {
   "cell_type": "code",
   "execution_count": 10,
   "metadata": {},
   "outputs": [
    {
     "name": "stdout",
     "output_type": "stream",
     "text": [
      "this method heritaged from general \n"
     ]
    }
   ],
   "source": [
    "zombie.strategy()"
   ]
  },
  {
   "cell_type": "code",
   "execution_count": 11,
   "metadata": {},
   "outputs": [
    {
     "name": "stdout",
     "output_type": "stream",
     "text": [
      "mixed skills\n"
     ]
    }
   ],
   "source": [
    "zombie.copy_skill()"
   ]
  },
  {
   "cell_type": "code",
   "execution_count": null,
   "metadata": {},
   "outputs": [],
   "source": []
  }
 ],
 "metadata": {
  "kernelspec": {
   "display_name": "Python 3",
   "language": "python",
   "name": "python3"
  },
  "language_info": {
   "codemirror_mode": {
    "name": "ipython",
    "version": 3
   },
   "file_extension": ".py",
   "mimetype": "text/x-python",
   "name": "python",
   "nbconvert_exporter": "python",
   "pygments_lexer": "ipython3",
   "version": "3.7.1"
  }
 },
 "nbformat": 4,
 "nbformat_minor": 2
}
