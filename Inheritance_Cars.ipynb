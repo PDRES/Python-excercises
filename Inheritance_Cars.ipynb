{
 "cells": [
  {
   "cell_type": "code",
   "execution_count": 28,
   "metadata": {},
   "outputs": [
    {
     "name": "stdout",
     "output_type": "stream",
     "text": [
      "\n",
      "        NAME \t\t\t Audi TT RS\n",
      "        CILINDER(cc)\t\t 2480\n",
      "        POWER(CV)\t\t 400\n",
      "        MSPEED (KM/H)\t\t 250\n",
      "        PRICE(€)\t\t 81560\n",
      "\n",
      "        NAME \t\t\t Honda civic type R\n",
      "        CILINDER(cc)\t\t 1996\n",
      "        POWER(CV)\t\t 400\n",
      "        MSPEED (KM/H)\t\t 270\n",
      "        CONSUMPTION(L/100Km)\t9.4\n",
      "        PRICE(€)\t\t 34900\n",
      "\n",
      "        NAME \t\t\t Bmw series 5\n",
      "        CILINDER(cc)\t\t 2993\n",
      "        POWER(CV)\t\t 400\n",
      "        MSPEED (KM/H)\t\t 250\n",
      "        CONSUMPTION(L/100Km)\t6.6\n",
      "        PRICE(€)\t\t103300\n",
      "        ACELERATION(s/100m)\t4.4\n"
     ]
    }
   ],
   "source": [
    "class Cars: \n",
    "    \n",
    "    def __init__(self, name,cilinder,power,mspeed,price,consumption=None,aceleration=None):\n",
    "        self.name=name\n",
    "        self.cilinder=cilinder\n",
    "        self.power=power\n",
    "        self.mspeed=mspeed\n",
    "        self.price=price\n",
    "        \n",
    "class Audi(Cars): \n",
    "    consumption=\"\" \n",
    "    \n",
    "    def __str__(self):\n",
    "        return\"\"\"\n",
    "        NAME \\t\\t\\t {}\n",
    "        CILINDER(cc)\\t\\t {}\n",
    "        POWER(CV)\\t\\t {}\n",
    "        MSPEED (KM/H)\\t\\t {}\n",
    "        PRICE(€)\\t\\t {}\"\"\".format(self.name,self.cilinder,self.power, self.mspeed,self.price)\n",
    "    \n",
    "Au=Audi(\"Audi TT RS\", 2480,400,250,81560 )\n",
    "Au.consumption=11,3\n",
    "print(Au)\n",
    "\n",
    "class Honda(Cars): \n",
    "    consumption=\"\" \n",
    "    \n",
    "    def __str__(self):\n",
    "        return\"\"\"\n",
    "        NAME \\t\\t\\t {}\n",
    "        CILINDER(cc)\\t\\t {}\n",
    "        POWER(CV)\\t\\t {}\n",
    "        MSPEED (KM/H)\\t\\t {}\n",
    "        CONSUMPTION(L/100Km)\\t{}\n",
    "        PRICE(€)\\t\\t {}\"\"\".format(self.name,self.cilinder,self.power, self.mspeed,self.consumption,self.price)\n",
    "    \n",
    "Ho=Honda(\"Honda civic type R\", 1996,400,270,34900 )\n",
    "Ho.consumption=9.4\n",
    "print(Ho)\n",
    "\n",
    "class Bmw(Cars): \n",
    "    consumption=\"\" \n",
    "    aceleration=\"\"\n",
    "    \n",
    "    def __str__(self):\n",
    "        return\"\"\"\n",
    "        NAME \\t\\t\\t {}\n",
    "        CILINDER(cc)\\t\\t {}\n",
    "        POWER(CV)\\t\\t {}\n",
    "        MSPEED (KM/H)\\t\\t {}\n",
    "        CONSUMPTION(L/100Km)\\t{}\n",
    "        PRICE(€)\\t\\t{}\n",
    "        ACELERATION(s/100m)\\t{}\"\"\".format(self.name,self.cilinder,self.power, self.mspeed,self.consumption,self.price,self.aceleration)\n",
    "    \n",
    "Bm=Bmw(\"Bmw series 5\", 2993,400,250,103300 )\n",
    "Bm.consumption=6.6\n",
    "Bm.aceleration=4.4\n",
    "\n",
    "print(Bm)"
   ]
  },
  {
   "cell_type": "code",
   "execution_count": null,
   "metadata": {},
   "outputs": [],
   "source": []
  }
 ],
 "metadata": {
  "kernelspec": {
   "display_name": "Python 3",
   "language": "python",
   "name": "python3"
  },
  "language_info": {
   "codemirror_mode": {
    "name": "ipython",
    "version": 3
   },
   "file_extension": ".py",
   "mimetype": "text/x-python",
   "name": "python",
   "nbconvert_exporter": "python",
   "pygments_lexer": "ipython3",
   "version": "3.7.1"
  }
 },
 "nbformat": 4,
 "nbformat_minor": 2
}
