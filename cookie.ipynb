{
 "cells": [
  {
   "cell_type": "code",
   "execution_count": 11,
   "metadata": {},
   "outputs": [
    {
     "name": "stdout",
     "output_type": "stream",
     "text": [
      "You made a cookie  salty and square\n"
     ]
    }
   ],
   "source": [
    "class Cookie():\n",
    "    chocolate = False\n",
    "    \n",
    "    def __init__(self, taste=None, shape=None):\n",
    "        self.taste = taste\n",
    "        self.shape = shape\n",
    "        if taste is not None and shape is not None:\n",
    "            print(\"You made a cookie  {} and {}\".format(taste,shape))\n",
    "    \n",
    "    def chocolating(self):\n",
    "        self.chocolate = True\n",
    "        \n",
    "    def has_chocolate(self):\n",
    "        if (self.chocolate):\n",
    "            print(\"I am a chocolate cookie :-D\")\n",
    "        else:\n",
    "            print(\"I am not a chocolate cookie :-(\")\n",
    "\n",
    "c= Cookie(\"salty\", \"square\")\n"
   ]
  },
  {
   "cell_type": "code",
   "execution_count": null,
   "metadata": {},
   "outputs": [],
   "source": []
  }
 ],
 "metadata": {
  "kernelspec": {
   "display_name": "Python 3",
   "language": "python",
   "name": "python3"
  },
  "language_info": {
   "codemirror_mode": {
    "name": "ipython",
    "version": 3
   },
   "file_extension": ".py",
   "mimetype": "text/x-python",
   "name": "python",
   "nbconvert_exporter": "python",
   "pygments_lexer": "ipython3",
   "version": "3.7.1"
  }
 },
 "nbformat": 4,
 "nbformat_minor": 2
}
