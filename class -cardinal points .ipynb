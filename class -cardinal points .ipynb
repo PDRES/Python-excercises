{
 "cells": [
  {
   "cell_type": "code",
   "execution_count": 15,
   "metadata": {},
   "outputs": [
    {
     "name": "stdout",
     "output_type": "stream",
     "text": [
      "(2, 3) belongs to the first cuadrant\n",
      "(-3, -1) belongs to the thirs cuadrant\n",
      "(0, 0) located in the origin\n",
      "The vector between (2, 3) and (5, 5) is (3, 2)\n",
      "The vector between (5, 5) and (2, 3) is (-3, -2)\n",
      "Distance between points:  (2, 3) and (-3, -1) is 6.4031242374328485\n",
      "Distance between points:  (5, 5) and (-3, -1) is 10.0\n",
      "Distance between points:  (2, 3) and (0, 0) is 3.605551275463989\n",
      "Distance between points:  (5, 5) and (0, 0) is 7.0710678118654755\n",
      "Distance between points:  (-3, -1) and (0, 0) is 3.1622776601683795\n",
      "The base of rectangle is 8\n",
      "The heigh of the rectangle is  6\n",
      "The area of the rectangle 48\n"
     ]
    }
   ],
   "source": [
    "import math\n",
    "\n",
    "class Point:\n",
    "\n",
    "    def __init__(self, x=0, y=0):\n",
    "        self.x = x\n",
    "        self.y = y\n",
    "\n",
    "    def __str__(self):\n",
    "        return \"({}, {})\".format(self.x, self.y)\n",
    "\n",
    "    def cuadrant(self):\n",
    "        if self.x > 0 and self.y > 0:\n",
    "            print(\"{} belongs to the first cuadrant\".format(self))\n",
    "        elif self.x < 0 and self.y > 0:\n",
    "            print(\"{} belongs to the second cuadrant\".format(self))\n",
    "        elif self.x < 0 and self.y < 0:\n",
    "            print(\"{} belongs to the thirs cuadrant\".format(self))\n",
    "        elif self.x > 0 and self.y < 0:\n",
    "            print(\"{} belongs to the fourth cuadrant\".format(self))\n",
    "        elif self.x != 0 and self.y == 0:\n",
    "            print(\"{} located over the X axis\".format(self))\n",
    "        elif self.x == 0 and self.y != 0:\n",
    "            print(\"{} located over the Y axis\".format(self))\n",
    "        else:\n",
    "            print(\"{} located in the origin\".format(self))\n",
    "\n",
    "    def vector(self, p):\n",
    "        print(\"The vector between {} and {} is ({}, {})\".format(\n",
    "            self, p, p.x - self.x, p.y - self.y) )\n",
    "\n",
    "    def distance(self, p):\n",
    "        d = math.sqrt( (p.x - self.x)**2 + (p.y - self.y)**2 )\n",
    "        print(\"Distance between points:  {} and {} is {}\".format(\n",
    "            self, p, d))\n",
    "\n",
    "\n",
    "class Rectangle:\n",
    "\n",
    "    def __init__(self, pInitial=Point(), pFinal=Point()):\n",
    "        self.pInitial = pInitial\n",
    "        self.pFinal = pFinal\n",
    "\n",
    "  \n",
    "        self.vBase = abs(self.pFinal.x - self.pInitial.x)\n",
    "        self.vHeigh = abs(self.pFinal.y - self.pInitial.y)\n",
    "        self.vArea = self.vBase * self.vHeigh\n",
    "\n",
    "    def base(self):\n",
    "        print(\"The base of rectangle is {}\".format( self.vBase ) )\n",
    "\n",
    "    def heigh(self):\n",
    "        print(\"The heigh of the rectangle is  {}\".format( self.vHeigh ) )\n",
    "\n",
    "    def area(self):\n",
    "        print(\"The area of the rectangle {}\".format( self.vArea ) )\n",
    "        \n",
    "A=Point(2,3)\n",
    "B=Point(5,5)\n",
    "C=Point(-3,-1)\n",
    "D=Point(0,0)\n",
    "\n",
    "A.cuadrant()\n",
    "C.cuadrant()\n",
    "D.cuadrant()\n",
    "\n",
    "A.vector(B)\n",
    "B.vector(A)\n",
    "\n",
    "A.distance(C)\n",
    "B.distance(C)\n",
    "\n",
    "A.distance(D)\n",
    "B.distance(D)\n",
    "C.distance(D)\n",
    "\n",
    "R = Rectangle(B, C)\n",
    "R.base()\n",
    "R.heigh()\n",
    "R.area()"
   ]
  },
  {
   "cell_type": "code",
   "execution_count": 1,
   "metadata": {},
   "outputs": [
    {
     "ename": "NameError",
     "evalue": "name 'point' is not defined",
     "output_type": "error",
     "traceback": [
      "\u001b[1;31m---------------------------------------------------------------------------\u001b[0m",
      "\u001b[1;31mNameError\u001b[0m                                 Traceback (most recent call last)",
      "\u001b[1;32m<ipython-input-1-31926897fac4>\u001b[0m in \u001b[0;36m<module>\u001b[1;34m\u001b[0m\n\u001b[1;32m----> 1\u001b[1;33m \u001b[0mpoint\u001b[0m\u001b[1;33m(\u001b[0m\u001b[1;36m2\u001b[0m\u001b[1;33m,\u001b[0m\u001b[1;36m3\u001b[0m\u001b[1;33m)\u001b[0m\u001b[1;33m\u001b[0m\u001b[1;33m\u001b[0m\u001b[0m\n\u001b[0m",
      "\u001b[1;31mNameError\u001b[0m: name 'point' is not defined"
     ]
    }
   ],
   "source": []
  },
  {
   "cell_type": "code",
   "execution_count": null,
   "metadata": {},
   "outputs": [],
   "source": []
  }
 ],
 "metadata": {
  "kernelspec": {
   "display_name": "Python 3",
   "language": "python",
   "name": "python3"
  },
  "language_info": {
   "codemirror_mode": {
    "name": "ipython",
    "version": 3
   },
   "file_extension": ".py",
   "mimetype": "text/x-python",
   "name": "python",
   "nbconvert_exporter": "python",
   "pygments_lexer": "ipython3",
   "version": "3.7.1"
  }
 },
 "nbformat": 4,
 "nbformat_minor": 2
}
