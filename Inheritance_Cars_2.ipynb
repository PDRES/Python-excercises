{
 "cells": [
  {
   "cell_type": "code",
   "execution_count": 3,
   "metadata": {},
   "outputs": [
    {
     "name": "stdout",
     "output_type": "stream",
     "text": [
      "\n",
      "        NAME \t\t\t Audi TT RS\n",
      "        CILINDER(cc)\t\t 2480\n",
      "        POWER(CV)\t\t 400\n",
      "        MSPEED (KM/H)\t\t 250\n",
      "        PRICE(€)\t\t 81560\n",
      "\n",
      "        NAME \t\t\t Honda civic type R\n",
      "        CILINDER(cc)\t\t 1996\n",
      "        POWER(CV)\t\t 400\n",
      "        MSPEED (KM/H)\t\t 270\n",
      "        CONSUMPTION(L/100Km)\t9.4\n",
      "        PRICE(€)\t\t 34900\n",
      "\n",
      "        NAME \t\t\t Bmw series 5\n",
      "        CILINDER(cc)\t\t 2993\n",
      "        POWER(CV)\t\t 400\n",
      "        MSPEED (KM/H)\t\t 250\n",
      "        CONSUMPTION(L/100Km)\t6.6\n",
      "        PRICE(€)\t\t103300\n",
      "        ACELERATION(s/100m)\t4.4\n"
     ]
    }
   ],
   "source": [
    "class Cars: \n",
    "    \n",
    "    def __init__(self, name,cilinder,power,mspeed,price,consumption=None,aceleration=None):\n",
    "        self.name=name\n",
    "        self.cilinder=cilinder\n",
    "        self.power=power\n",
    "        self.mspeed=mspeed\n",
    "        self.price=price\n",
    "        \n",
    "class Audi(Cars): \n",
    "    consumption=\"\" \n",
    "    \n",
    "    def __str__(self):\n",
    "        return\"\"\"\n",
    "        NAME \\t\\t\\t {}\n",
    "        CILINDER(cc)\\t\\t {}\n",
    "        POWER(CV)\\t\\t {}\n",
    "        MSPEED (KM/H)\\t\\t {}\n",
    "        PRICE(€)\\t\\t {}\"\"\".format(self.name,self.cilinder,self.power, self.mspeed,self.price)\n",
    "    \n",
    "Au=Audi(\"Audi TT RS\", 2480,400,250,81560 )\n",
    "Au.consumption=11,3\n",
    "print(Au)\n",
    "\n",
    "class Honda(Cars): \n",
    "    consumption=\"\" \n",
    "    \n",
    "    def __str__(self):\n",
    "        return\"\"\"\n",
    "        NAME \\t\\t\\t {}\n",
    "        CILINDER(cc)\\t\\t {}\n",
    "        POWER(CV)\\t\\t {}\n",
    "        MSPEED (KM/H)\\t\\t {}\n",
    "        CONSUMPTION(L/100Km)\\t{}\n",
    "        PRICE(€)\\t\\t {}\"\"\".format(self.name,self.cilinder,self.power, self.mspeed,self.consumption,self.price)\n",
    "    \n",
    "Ho=Honda(\"Honda civic type R\", 1996,400,270,34900 )\n",
    "Ho.consumption=9.4\n",
    "print(Ho)\n",
    "\n",
    "class Bmw(Cars): \n",
    "    consumption=\"\" \n",
    "    aceleration=\"\"\n",
    "    \n",
    "    def __str__(self):\n",
    "        return\"\"\"\n",
    "        NAME \\t\\t\\t {}\n",
    "        CILINDER(cc)\\t\\t {}\n",
    "        POWER(CV)\\t\\t {}\n",
    "        MSPEED (KM/H)\\t\\t {}\n",
    "        CONSUMPTION(L/100Km)\\t{}\n",
    "        PRICE(€)\\t\\t{}\n",
    "        ACELERATION(s/100m)\\t{}\"\"\".format(self.name,self.cilinder,self.power, self.mspeed,self.consumption,self.price,self.aceleration)\n",
    "    \n",
    "Bm=Bmw(\"Bmw series 5\", 2993,400,250,103300 )\n",
    "Bm.consumption=6.6\n",
    "Bm.aceleration=4.4\n",
    "\n",
    "print(Bm)"
   ]
  },
  {
   "cell_type": "code",
   "execution_count": 4,
   "metadata": {},
   "outputs": [
    {
     "data": {
      "text/plain": [
       "[<__main__.Audi at 0x52f7c50>,\n",
       " <__main__.Honda at 0x52f7c88>,\n",
       " <__main__.Bmw at 0x52f7d30>]"
      ]
     },
     "execution_count": 4,
     "metadata": {},
     "output_type": "execute_result"
    }
   ],
   "source": [
    "Cars=[Au, Ho]\n",
    "Cars.append(Bm)\n",
    "Cars"
   ]
  },
  {
   "cell_type": "code",
   "execution_count": 5,
   "metadata": {},
   "outputs": [
    {
     "data": {
      "text/plain": [
       "'[<__main__.Audi object at 0x00000000052F7C50>, <__main__.Honda object at 0x00000000052F7C88>, <__main__.Bmw object at 0x00000000052F7D30>]'"
      ]
     },
     "execution_count": 5,
     "metadata": {},
     "output_type": "execute_result"
    }
   ],
   "source": [
    "str(Cars)"
   ]
  },
  {
   "cell_type": "code",
   "execution_count": 6,
   "metadata": {},
   "outputs": [
    {
     "name": "stdout",
     "output_type": "stream",
     "text": [
      "\n",
      "        NAME \t\t\t Audi TT RS\n",
      "        CILINDER(cc)\t\t 2480\n",
      "        POWER(CV)\t\t 400\n",
      "        MSPEED (KM/H)\t\t 250\n",
      "        PRICE(€)\t\t 81560\n",
      "\n",
      "        NAME \t\t\t Honda civic type R\n",
      "        CILINDER(cc)\t\t 1996\n",
      "        POWER(CV)\t\t 400\n",
      "        MSPEED (KM/H)\t\t 270\n",
      "        CONSUMPTION(L/100Km)\t9.4\n",
      "        PRICE(€)\t\t 34900\n",
      "\n",
      "        NAME \t\t\t Bmw series 5\n",
      "        CILINDER(cc)\t\t 2993\n",
      "        POWER(CV)\t\t 400\n",
      "        MSPEED (KM/H)\t\t 250\n",
      "        CONSUMPTION(L/100Km)\t6.6\n",
      "        PRICE(€)\t\t103300\n",
      "        ACELERATION(s/100m)\t4.4\n"
     ]
    }
   ],
   "source": [
    "for c in Cars:\n",
    "    print(c)"
   ]
  },
  {
   "cell_type": "code",
   "execution_count": 7,
   "metadata": {},
   "outputs": [
    {
     "name": "stdout",
     "output_type": "stream",
     "text": [
      "250\n",
      "270\n",
      "250\n"
     ]
    }
   ],
   "source": [
    "for c in Cars: \n",
    "    print(c.mspeed)"
   ]
  },
  {
   "cell_type": "code",
   "execution_count": 8,
   "metadata": {},
   "outputs": [],
   "source": [
    "#error due to dedicated atribute"
   ]
  },
  {
   "cell_type": "code",
   "execution_count": 9,
   "metadata": {},
   "outputs": [
    {
     "ename": "AttributeError",
     "evalue": "'Audi' object has no attribute 'aceleration'",
     "output_type": "error",
     "traceback": [
      "\u001b[1;31m---------------------------------------------------------------------------\u001b[0m",
      "\u001b[1;31mAttributeError\u001b[0m                            Traceback (most recent call last)",
      "\u001b[1;32m<ipython-input-9-dc9d1770b122>\u001b[0m in \u001b[0;36m<module>\u001b[1;34m\u001b[0m\n\u001b[0;32m      1\u001b[0m \u001b[1;32mfor\u001b[0m \u001b[0mc\u001b[0m \u001b[1;32min\u001b[0m \u001b[0mCars\u001b[0m\u001b[1;33m:\u001b[0m\u001b[1;33m\u001b[0m\u001b[1;33m\u001b[0m\u001b[0m\n\u001b[1;32m----> 2\u001b[1;33m     \u001b[0mprint\u001b[0m\u001b[1;33m(\u001b[0m\u001b[0mc\u001b[0m\u001b[1;33m.\u001b[0m\u001b[0maceleration\u001b[0m\u001b[1;33m)\u001b[0m\u001b[1;33m\u001b[0m\u001b[1;33m\u001b[0m\u001b[0m\n\u001b[0m",
      "\u001b[1;31mAttributeError\u001b[0m: 'Audi' object has no attribute 'aceleration'"
     ]
    }
   ],
   "source": [
    "for c in Cars: \n",
    "    print(c.aceleration)"
   ]
  },
  {
   "cell_type": "code",
   "execution_count": 10,
   "metadata": {},
   "outputs": [],
   "source": [
    "#but there is a specific fucntion for solving this problem "
   ]
  },
  {
   "cell_type": "code",
   "execution_count": 11,
   "metadata": {},
   "outputs": [
    {
     "name": "stdout",
     "output_type": "stream",
     "text": [
      "Audi TT RS 81560\n",
      "Honda civic type R 9.4\n",
      "Bmw series 5 4.4\n"
     ]
    }
   ],
   "source": [
    "for c in Cars: \n",
    "    if (isinstance(c, Audi)): \n",
    "        print(c.name,c.price)\n",
    "    elif (isinstance(c, Honda)):\n",
    "        print(c.name,c.consumption)\n",
    "    elif (isinstance(c, Bmw)): \n",
    "        print(c.name,c.aceleration)"
   ]
  },
  {
   "cell_type": "code",
   "execution_count": 12,
   "metadata": {},
   "outputs": [],
   "source": [
    "# funtions for making transformations"
   ]
  },
  {
   "cell_type": "code",
   "execution_count": 13,
   "metadata": {},
   "outputs": [
    {
     "data": {
      "text/plain": [
       "<__main__.Bmw at 0x52f7d30>"
      ]
     },
     "execution_count": 13,
     "metadata": {},
     "output_type": "execute_result"
    }
   ],
   "source": [
    "c"
   ]
  },
  {
   "cell_type": "code",
   "execution_count": 14,
   "metadata": {},
   "outputs": [
    {
     "name": "stdout",
     "output_type": "stream",
     "text": [
      "\n",
      "        NAME \t\t\t Audi TT RS\n",
      "        CILINDER(cc)\t\t 2480\n",
      "        POWER(CV)\t\t 400\n",
      "        MSPEED (KM/H)\t\t 250\n",
      "        PRICE(€)\t\t 73404.0\n",
      "\n",
      "        NAME \t\t\t Honda civic type R\n",
      "        CILINDER(cc)\t\t 1996\n",
      "        POWER(CV)\t\t 400\n",
      "        MSPEED (KM/H)\t\t 270\n",
      "        CONSUMPTION(L/100Km)\t9.4\n",
      "        PRICE(€)\t\t 29665.0\n"
     ]
    }
   ],
   "source": [
    "def sales_cars(c, sale):\n",
    "    # for blackfriday the cars are 10% less \n",
    "    \n",
    "    c.price=c.price-((c.price/100)*sale)\n",
    "    return c\n",
    "\n",
    "Au_cars=sales_cars(Au, 10)\n",
    "Au_cars2=sales_cars(Ho,15)\n",
    "print(Au_cars)\n",
    "print(Au_cars2)\n"
   ]
  },
  {
   "cell_type": "code",
   "execution_count": 17,
   "metadata": {},
   "outputs": [
    {
     "name": "stdout",
     "output_type": "stream",
     "text": [
      "\n",
      "        NAME \t\t\t Audi TT RS\n",
      "        CILINDER(cc)\t\t 2480\n",
      "        POWER(CV)\t\t 400\n",
      "        MSPEED (KM/H)\t\t 250\n",
      "        PRICE(€)\t\t 73404.0 \n",
      " \n",
      "        NAME \t\t\t Honda civic type R\n",
      "        CILINDER(cc)\t\t 1996\n",
      "        POWER(CV)\t\t 400\n",
      "        MSPEED (KM/H)\t\t 270\n",
      "        CONSUMPTION(L/100Km)\t9.4\n",
      "        PRICE(€)\t\t 29665.0\n"
     ]
    }
   ],
   "source": [
    "print(Au,\"\\n\", Ho)"
   ]
  },
  {
   "cell_type": "code",
   "execution_count": null,
   "metadata": {},
   "outputs": [],
   "source": [
    "# The original version is changed!! "
   ]
  },
  {
   "cell_type": "code",
   "execution_count": 18,
   "metadata": {},
   "outputs": [],
   "source": [
    "#for avoiding that use function copy "
   ]
  },
  {
   "cell_type": "code",
   "execution_count": 19,
   "metadata": {},
   "outputs": [],
   "source": [
    "import copy \n",
    "\n",
    "Bmw_copy=copy.copy(Bm)\n"
   ]
  },
  {
   "cell_type": "code",
   "execution_count": 20,
   "metadata": {},
   "outputs": [
    {
     "name": "stdout",
     "output_type": "stream",
     "text": [
      "\n",
      "        NAME \t\t\t Bmw series 5\n",
      "        CILINDER(cc)\t\t 2993\n",
      "        POWER(CV)\t\t 400\n",
      "        MSPEED (KM/H)\t\t 250\n",
      "        CONSUMPTION(L/100Km)\t6.6\n",
      "        PRICE(€)\t\t92970.0\n",
      "        ACELERATION(s/100m)\t4.4\n",
      "\n",
      "        NAME \t\t\t Bmw series 5\n",
      "        CILINDER(cc)\t\t 2993\n",
      "        POWER(CV)\t\t 400\n",
      "        MSPEED (KM/H)\t\t 250\n",
      "        CONSUMPTION(L/100Km)\t6.6\n",
      "        PRICE(€)\t\t103300\n",
      "        ACELERATION(s/100m)\t4.4\n"
     ]
    }
   ],
   "source": [
    "def sales_cars(c, sale):\n",
    "    # for blackfriday the cars are 10% less \n",
    "    \n",
    "    c.price=c.price-((c.price/100)*sale)\n",
    "    return c\n",
    "\n",
    "Bm_cars=sales_cars(Bmw_copy, 10)\n",
    "print(Bm_cars)\n",
    "print(Bm)"
   ]
  },
  {
   "cell_type": "code",
   "execution_count": null,
   "metadata": {},
   "outputs": [],
   "source": []
  }
 ],
 "metadata": {
  "kernelspec": {
   "display_name": "Python 3",
   "language": "python",
   "name": "python3"
  },
  "language_info": {
   "codemirror_mode": {
    "name": "ipython",
    "version": 3
   },
   "file_extension": ".py",
   "mimetype": "text/x-python",
   "name": "python",
   "nbconvert_exporter": "python",
   "pygments_lexer": "ipython3",
   "version": "3.7.1"
  }
 },
 "nbformat": 4,
 "nbformat_minor": 2
}
